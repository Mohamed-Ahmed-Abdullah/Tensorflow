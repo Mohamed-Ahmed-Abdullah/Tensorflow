{
 "cells": [
  {
   "cell_type": "markdown",
   "metadata": {},
   "source": [
    "# Convolutional NN"
   ]
  },
  {
   "cell_type": "markdown",
   "metadata": {},
   "source": [
    "**Components of the Model**\n",
    "\n",
    "* Model Function (cnn_model_fn)\n",
    "    * accept features, class labels, model and model parameters as args \n",
    "    * define the layers \n",
    "    * define a dictionary for the output of prediction \n",
    "    * create `EstimatorSpecs` object for the appropriate mode \n",
    "        * train, predict, evaluate \n",
    "        * create one-hot from class labeles for train and evaluate \n",
    "        * evaluate need dict of metrics to use \n",
    "        \n",
    "* Main Function \n",
    "    * accept model and model parameters as args \n",
    "    * call a function to get data \n",
    "        * load MNIST from TF in this case\n",
    "    * create the estimator with `cnn_model_fn` and model  parameters \n",
    "    * create `*_input_fn` where * is the mode (ex. train)\n",
    "        * use numpy_input_fn from the TF API for numpy data \n",
    "    * run the classifier/estimator using the appropriate mode \n",
    "    * perform any work nessesary to display or return result "
   ]
  },
  {
   "cell_type": "code",
   "execution_count": 2,
   "metadata": {},
   "outputs": [],
   "source": [
    "import tensorflow as tf\n",
    "import numpy as np \n",
    "import pandas as pd \n",
    "from pandas import DataFrame as DF, Series "
   ]
  },
  {
   "cell_type": "code",
   "execution_count": null,
   "metadata": {},
   "outputs": [],
   "source": []
  }
 ],
 "metadata": {
  "kernelspec": {
   "display_name": "Python 3",
   "language": "python",
   "name": "python3"
  },
  "language_info": {
   "codemirror_mode": {
    "name": "ipython",
    "version": 3
   },
   "file_extension": ".py",
   "mimetype": "text/x-python",
   "name": "python",
   "nbconvert_exporter": "python",
   "pygments_lexer": "ipython3",
   "version": "3.6.4"
  }
 },
 "nbformat": 4,
 "nbformat_minor": 2
}
